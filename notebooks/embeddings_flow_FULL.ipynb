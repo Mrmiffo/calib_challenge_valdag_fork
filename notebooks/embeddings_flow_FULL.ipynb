{
 "cells": [
  {
   "cell_type": "code",
   "execution_count": 1,
   "id": "dd546a30",
   "metadata": {},
   "outputs": [
    {
     "data": {
      "text/plain": [
       "'./calib_challenge_valdag_fork/unlabeled/7.avi'"
      ]
     },
     "execution_count": 1,
     "metadata": {},
     "output_type": "execute_result"
    }
   ],
   "source": [
    "import glob\n",
    "import pandas as pd\n",
    "import os\n",
    "paths = glob.glob(\"./calib_challenge_valdag_fork/unlabeled/*.avi\")\n",
    "current_file_index = 4\n",
    "video_path = paths[current_file_index]\n",
    "video_path"
   ]
  },
  {
   "cell_type": "code",
   "execution_count": 2,
   "id": "dc59ad88",
   "metadata": {},
   "outputs": [],
   "source": [
    "import numpy as np\n",
    "import torch\n",
    "import matplotlib.pyplot as plt\n",
    "import torchvision.transforms.functional as F\n",
    "from torchvision.io import read_video\n",
    "from torchvision.models.optical_flow import Raft_Small_Weights, raft_small\n",
    "from tqdm import tqdm\n",
    "\n",
    "def preprocess(img1_batch, img2_batch):\n",
    "    img1_batch = F.resize(img1_batch, size=[520, 960], antialias=False)\n",
    "    img2_batch = F.resize(img2_batch, size=[520, 960], antialias=False)\n",
    "    return transforms(img1_batch, img2_batch)"
   ]
  },
  {
   "cell_type": "code",
   "execution_count": 3,
   "id": "125f045c",
   "metadata": {
    "scrolled": true
   },
   "outputs": [
    {
     "name": "stderr",
     "output_type": "stream",
     "text": [
      "/home/s0001638/miniconda3/lib/python3.9/site-packages/torchvision/io/video.py:161: UserWarning: The pts_unit 'pts' gives wrong results. Please use pts_unit 'sec'.\n",
      "  warnings.warn(\"The pts_unit 'pts' gives wrong results. Please use pts_unit 'sec'.\")\n",
      "100%|██████████████████████████████████████████████████████████████████████████████████████████████████████████████████████████████████████████████████████████████████████████| 1199/1199 [02:06<00:00,  9.49it/s]\n"
     ]
    }
   ],
   "source": [
    "frames, _, _ = read_video(str(video_path), output_format=\"TCHW\")\n",
    "\n",
    "weights = Raft_Small_Weights.DEFAULT\n",
    "transforms = weights.transforms()\n",
    "device = \"cuda\" if torch.cuda.is_available() else \"cpu\"\n",
    "model = raft_small(weights=Raft_Small_Weights.DEFAULT, progress=False).to(device)\n",
    "model = model.eval()\n",
    "\n",
    "all_predicted_flows = []\n",
    "\n",
    "for i in tqdm(range(len(frames) - 1)):\n",
    "    img1_batch = torch.stack([frames[i]])\n",
    "    img2_batch = torch.stack([frames[i+1]])\n",
    "    img1_batch, img2_batch = preprocess(img1_batch, img2_batch)\n",
    "\n",
    "    list_of_flows = model(img1_batch.to(device), img2_batch.to(device))\n",
    "    predicted_flows = list_of_flows[-1]\n",
    "    all_predicted_flows.append(predicted_flows.detach().cpu().resolve_conj().resolve_neg())\n",
    "    \n",
    "#     free up cuda space\n",
    "    del list_of_flows\n",
    "    del predicted_flows\n",
    "    torch.cuda.empty_cache()"
   ]
  },
  {
   "cell_type": "code",
   "execution_count": 4,
   "id": "457ec177",
   "metadata": {},
   "outputs": [
    {
     "data": {
      "text/plain": [
       "torch.Size([1199, 2])"
      ]
     },
     "execution_count": 4,
     "metadata": {},
     "output_type": "execute_result"
    }
   ],
   "source": [
    "all_predicted_flows = torch.stack(all_predicted_flows)\n",
    "output_tensor = torch.mean(all_predicted_flows, dim=(3, 4), keepdim=True).squeeze()\n",
    "output_tensor.shape"
   ]
  },
  {
   "cell_type": "code",
   "execution_count": 5,
   "id": "47054e0c",
   "metadata": {},
   "outputs": [
    {
     "data": {
      "text/plain": [
       "'7.pt'"
      ]
     },
     "execution_count": 5,
     "metadata": {},
     "output_type": "execute_result"
    }
   ],
   "source": [
    "filename = os.path.basename(paths[current_file_index])\n",
    "output_file = filename.replace(\".avi\", \".pt\")\n",
    "output_file"
   ]
  },
  {
   "cell_type": "code",
   "execution_count": 6,
   "id": "879094fa",
   "metadata": {},
   "outputs": [],
   "source": [
    "torch.save(output_tensor, \"./raft_embeddings/\"+output_file)"
   ]
  },
  {
   "cell_type": "code",
   "execution_count": null,
   "id": "c134d82b",
   "metadata": {},
   "outputs": [],
   "source": []
  }
 ],
 "metadata": {
  "kernelspec": {
   "display_name": "Python 3 (ipykernel)",
   "language": "python",
   "name": "python3"
  },
  "language_info": {
   "codemirror_mode": {
    "name": "ipython",
    "version": 3
   },
   "file_extension": ".py",
   "mimetype": "text/x-python",
   "name": "python",
   "nbconvert_exporter": "python",
   "pygments_lexer": "ipython3",
   "version": "3.9.18"
  }
 },
 "nbformat": 4,
 "nbformat_minor": 5
}
